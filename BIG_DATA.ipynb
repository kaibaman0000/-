{
  "nbformat": 4,
  "nbformat_minor": 0,
  "metadata": {
    "colab": {
      "provenance": [],
      "authorship_tag": "ABX9TyMB6N93ZQEpCpm4w/DKKc4Y",
      "include_colab_link": true
    },
    "kernelspec": {
      "name": "python3",
      "display_name": "Python 3"
    },
    "language_info": {
      "name": "python"
    }
  },
  "cells": [
    {
      "cell_type": "markdown",
      "metadata": {
        "id": "view-in-github",
        "colab_type": "text"
      },
      "source": [
        "<a href=\"https://colab.research.google.com/github/kaibaman0000/-/blob/main/BIG_DATA.ipynb\" target=\"_parent\"><img src=\"https://colab.research.google.com/assets/colab-badge.svg\" alt=\"Open In Colab\"/></a>"
      ]
    },
    {
      "cell_type": "code",
      "execution_count": 5,
      "metadata": {
        "colab": {
          "base_uri": "https://localhost:8080/"
        },
        "id": "DWWNxzJx8qCr",
        "outputId": "b0c56763-ffbb-49af-8c0f-4a03b4e4e9d4"
      },
      "outputs": [
        {
          "output_type": "stream",
          "name": "stdout",
          "text": [
            "{\n",
            "    \"name\": \"John\",\n",
            "    \"age\": 36,\n",
            "    \"gender\": \"male\"\n",
            "}\n"
          ]
        }
      ],
      "source": [
        "import json  # Import the json module\n",
        "\n",
        "dic1 = {\"name\":\"John\", \"age\" : 36, \"gender\":\"male\"}\n",
        "str1 = json.dumps(dic1, indent = 4)\n",
        "print(str1)"
      ]
    },
    {
      "cell_type": "code",
      "source": [
        "import json  # Import the json module\n",
        "\n",
        "jsonstr = '{\"name\":\"John\", \"age\" : 36, \"gender\":\"male\"}'\n",
        "obj1 = json.loads(jsonstr)\n",
        "print(type(obj1))\n",
        "for k, v in obj1.items():\n",
        "  print(obj1)"
      ],
      "metadata": {
        "colab": {
          "base_uri": "https://localhost:8080/"
        },
        "id": "xXcTHEVI815b",
        "outputId": "639fbb85-a155-4ef5-a6f7-3843a69648c6"
      },
      "execution_count": 18,
      "outputs": [
        {
          "output_type": "stream",
          "name": "stdout",
          "text": [
            "<class 'dict'>\n",
            "{'name': 'John', 'age': 36, 'gender': 'male'}\n",
            "{'name': 'John', 'age': 36, 'gender': 'male'}\n",
            "{'name': 'John', 'age': 36, 'gender': 'male'}\n"
          ]
        }
      ]
    },
    {
      "cell_type": "code",
      "source": [
        "import json  # Import the json module\n",
        "\n",
        "jsonstr = '{\"name\":\"John\", \"age\" : 36, \"gender\":\"male\"}'\n",
        "outfname = \"jsonout.txt\"\n",
        "outf = open(outfname, 'wt')\n",
        "json.dump(dic1, outf)\n",
        "outf.close()"
      ],
      "metadata": {
        "id": "4phEUPNH-AJZ"
      },
      "execution_count": 33,
      "outputs": []
    },
    {
      "cell_type": "code",
      "source": [
        "import json  # Import the json module\n",
        "\n",
        "infname = \"jsonin.txt\"\n",
        "inf = open(infname,\"rt\")\n",
        "obj1 = json.load(inf)\n",
        "inf.close()\n",
        "print(type(obj1))\n",
        "for e in obj1:\n",
        "  print(e)"
      ],
      "metadata": {
        "colab": {
          "base_uri": "https://localhost:8080/"
        },
        "id": "a_f5A1MIAO32",
        "outputId": "221ce235-a6bf-47c6-98dc-fb3ca714f015"
      },
      "execution_count": 31,
      "outputs": [
        {
          "output_type": "stream",
          "name": "stdout",
          "text": [
            "<class 'list'>\n",
            "{'abc': 'Marry', 'def': 16, 'ghi': 'female'}\n",
            "{'name': 'John', 'age': 36, 'gender': 'male'}\n"
          ]
        }
      ]
    },
    {
      "cell_type": "code",
      "source": [],
      "metadata": {
        "id": "WqWAaoxYBq2b"
      },
      "execution_count": null,
      "outputs": []
    }
  ]
}